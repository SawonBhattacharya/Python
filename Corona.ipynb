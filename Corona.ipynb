{
 "cells": [
  {
   "cell_type": "markdown",
   "metadata": {},
   "source": [
    "# Corona Virus Live Updates for India"
   ]
  },
  {
   "cell_type": "code",
   "execution_count": 1,
   "metadata": {},
   "outputs": [],
   "source": [
    "#import libraries\n",
    "import requests\n",
    "from bs4 import BeautifulSoup\n",
    "from tabulate import tabulate\n",
    "import os\n",
    "import numpy as np\n",
    "import matplotlib.pyplot as plt"
   ]
  },
  {
   "cell_type": "code",
   "execution_count": 2,
   "metadata": {},
   "outputs": [],
   "source": [
    "extract_contents = lambda row:[x.text.replace('\\n','') for x in row]\n",
    "URL='https://www.mohfw.gov.in/'\n",
    "\n",
    "SHORT_HEADERS=['SNo','State','Indian_Confirmed','Foregn_Confirmed','Cured','Death']\n",
    "\n",
    "response=requests.get(URL).content\n",
    "soup=BeautifulSoup(response,'html.parser')\n",
    "header=extract_contents(soup.tr.find_all('th'))\n",
    "\n",
    "stats=[]\n",
    "all_rows=soup.find_all('tr')\n",
    "\n",
    "for row in all_rows:\n",
    "    stat=extract_contents(row.find_all('td'))\n",
    "    if stat:\n",
    "        if len(stat) == 5:\n",
    "            #last row\n",
    "            stat=['', *stat]\n",
    "            stats.append(stat)\n",
    "        elif len(stat) == 6:\n",
    "            stats.append(stat)\n",
    "stats[-1][1]=\"Total Cases\"\n",
    "stats.remove(stats[-1])"
   ]
  },
  {
   "cell_type": "code",
   "execution_count": 3,
   "metadata": {},
   "outputs": [
    {
     "name": "stdout",
     "output_type": "stream",
     "text": [
      "  SNo  State                          Indian_Confirmed    Foregn_Confirmed    Cured    Death\n",
      "-----  ---------------------------  ------------------  ------------------  -------  -------\n",
      "    1  Andaman and Nicobar Islands                   1                   0        0        0\n",
      "    2  Andhra Pradesh                               12                   0        1        0\n",
      "    3  Bihar                                         6                   0        0        1\n",
      "    4  Chandigarh                                    7                   0        0        0\n",
      "    5  Chhattisgarh                                  6                   0        0        0\n",
      "    6  Delhi                                        35                   1        6        1\n",
      "    7  Goa                                           3                   0        0        0\n",
      "    8  Gujarat                                      42                   1        0        3\n",
      "    9  Haryana                                      16                  14       11        0\n",
      "   10  Himachal Pradesh                              3                   0        0        1\n",
      "   11  Jammu and Kashmir                            13                   0        1        1\n",
      "   12  Karnataka                                    55                   0        3        2\n",
      "   13  Kerala                                      129                   8       11        0\n",
      "   14  Ladakh                                       13                   0        3        0\n",
      "   15  Madhya Pradesh                               20                   0        0        1\n",
      "   16  Maharashtra                                 127                   3       15        4\n",
      "   17  Manipur                                       1                   0        0        0\n",
      "   18  Mizoram                                       1                   0        0        0\n",
      "   19  Odisha                                        2                   0        0        0\n",
      "   20  Puducherry                                    1                   0        0        0\n",
      "   21  Punjab                                       33                   0        0        1\n",
      "   22  Rajasthan                                    39                   2        3        0\n",
      "   23  Tamil Nadu                                   23                   6        1        1\n",
      "   24  Telengana                                    35                  10        1        0\n",
      "   25  Uttarakhand                                   4                   1        0        0\n",
      "   26  Uttar Pradesh                                40                   1       11        0\n",
      "   27  West Bengal                                  10                   0        0        1\n"
     ]
    }
   ],
   "source": [
    "objects=[]\n",
    "for row in stats:\n",
    "    objects.append(row[1])\n",
    "\n",
    "y_pos=np.arange(len(objects))\n",
    "\n",
    "performance = []\n",
    "for row in stats:\n",
    "    performance.append(int(row[2])+int(row[3]))\n",
    "\n",
    "table = tabulate(stats,headers=SHORT_HEADERS)\n",
    "print(table)"
   ]
  },
  {
   "cell_type": "code",
   "execution_count": 4,
   "metadata": {},
   "outputs": [
    {
     "data": {
      "image/png": "[encoded data removed]",
      "text/plain": [
       "<Figure size 432x288 with 1 Axes>"
      ]
     },
     "metadata": {
      "needs_background": "light"
     },
     "output_type": "display_data"
    }
   ],
   "source": [
    "plt.barh(y_pos,performance,align='center',alpha=0.75,color=(234/256.0,128/256.0,252/256.0),edgecolor=(106/256.0,27/256.0,154/256.0))\n",
    "plt.yticks(y_pos,objects)\n",
    "plt.xlim(1,100)\n",
    "plt.xlabel('Number of Cases')\n",
    "plt.title('Corona Virus Cases')\n",
    "plt.show()"
   ]
  },
  {
   "cell_type": "code",
   "execution_count": null,
   "metadata": {},
   "outputs": [],
   "source": []
  },
  {
   "cell_type": "code",
   "execution_count": null,
   "metadata": {},
   "outputs": [],
   "source": []
  }
 ],
 "metadata": {
  "kernelspec": {
   "display_name": "Python 3",
   "language": "python",
   "name": "python3"
  },
  "language_info": {
   "codemirror_mode": {
    "name": "ipython",
    "version": 3
   },
   "file_extension": ".py",
   "mimetype": "text/x-python",
   "name": "python",
   "nbconvert_exporter": "python",
   "pygments_lexer": "ipython3",
   "version": "3.7.6"
  }
 },
 "nbformat": 4,
 "nbformat_minor": 4
}
