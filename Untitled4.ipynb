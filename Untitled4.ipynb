{
 "cells": [
  {
   "cell_type": "markdown",
   "metadata": {},
   "source": [
    "# Corona Virus Live Updates for India"
   ]
  },
  {
   "cell_type": "code",
   "execution_count": null,
   "metadata": {},
   "outputs": [],
   "source": [
    "#import libraries\n",
    "import requests\n",
    "from bs4 import BeautifulSoup\n",
    "from tabulate import tabulate\n",
    "import os\n",
    "import numpy as np\n",
    "import matplotlib.pyplot as plt"
   ]
  },
  {
   "cell_type": "code",
   "execution_count": null,
   "metadata": {},
   "outputs": [],
   "source": [
    "extract_contents = lambda row:[x.text.replace('\\n','') for x in row]\n",
    "URL='https://www.mohfw.gov.in/'\n",
    "\n",
    "SHORT_HEADERS=['SNo','State','Indian_Confirmed','Foregn_Confirmed','Cured','Death']\n",
    "\n",
    "response=requests.get(URL).content\n",
    "soup=BeautifulSoup(response,'html.parser')\n",
    "header=extract_contents(soup.tr.find_all('th'))\n",
    "\n",
    "stats=[]\n",
    "all_rows=soup.find_all('tr')\n",
    "\n",
    "for row in all_rows:\n",
    "    stat=extract_contents(row.find_all('td'))\n",
    "    if stat:\n",
    "        if len(stat) == 5:\n",
    "            #last row\n",
    "            stat=['', *stat]\n",
    "            stats.append(stat)\n",
    "        elif len(stat) == 6:\n",
    "            stats.append(stat)\n",
    "stat[-1][1]='Total Cases'\n",
    "stats.remove[stats[-1]]"
   ]
  },
  {
   "cell_type": "code",
   "execution_count": null,
   "metadata": {},
   "outputs": [],
   "source": [
    "objects=[]\n",
    "for row in stats:\n",
    "    objects.append(row[1])\n",
    "\n",
    "y_pos=np.arange(len(objects))\n",
    "\n",
    "performance = []\n",
    "for row in stats:\n",
    "    performance.append(int(row[2])+int(row[3]))\n",
    "\n",
    "table = tabulate(stats.headers=SHORT_HEADERS)\n",
    "print(table)"
   ]
  },
  {
   "cell_type": "code",
   "execution_count": null,
   "metadata": {},
   "outputs": [],
   "source": [
    "plt.barh(y_pos,performance.align='center',alpha=0.5,color=(234/256.0,128/256.0,252/256.0),edgecolor=(106/256.0,27/256.0,154/256.0))\n",
    "plt.yticks(y_pos,objects)\n",
    "plt.xlim(1,80)\n",
    "plt.xlabel('Number of Cases')\n",
    "plt.title('Corona Virus Cases')\n",
    "plt.show()"
   ]
  },
  {
   "cell_type": "code",
   "execution_count": null,
   "metadata": {},
   "outputs": [],
   "source": []
  },
  {
   "cell_type": "code",
   "execution_count": null,
   "metadata": {},
   "outputs": [],
   "source": []
  }
 ],
 "metadata": {
  "kernelspec": {
   "display_name": "Python 3",
   "language": "python",
   "name": "python3"
  },
  "language_info": {
   "codemirror_mode": {
    "name": "ipython",
    "version": 3
   },
   "file_extension": ".py",
   "mimetype": "text/x-python",
   "name": "python",
   "nbconvert_exporter": "python",
   "pygments_lexer": "ipython3",
   "version": "3.7.6"
  }
 },
 "nbformat": 4,
 "nbformat_minor": 4
}
